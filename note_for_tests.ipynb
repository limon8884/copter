{
 "cells": [
  {
   "cell_type": "code",
   "execution_count": 13,
   "metadata": {},
   "outputs": [
    {
     "name": "stdout",
     "output_type": "stream",
     "text": [
      "The autoreload extension is already loaded. To reload it, use:\n",
      "  %reload_ext autoreload\n"
     ]
    }
   ],
   "source": [
    "%load_ext autoreload\n",
    "%autoreload 2"
   ]
  },
  {
   "cell_type": "code",
   "execution_count": 2,
   "metadata": {},
   "outputs": [
    {
     "data": {
      "text/plain": [
       "12963589.166666666"
      ]
     },
     "execution_count": 2,
     "metadata": {},
     "output_type": "execute_result"
    }
   ],
   "source": [
    "from utils import compute_total_J\n",
    "compute_total_J(False)"
   ]
  },
  {
   "cell_type": "code",
   "execution_count": 1,
   "metadata": {},
   "outputs": [
    {
     "data": {
      "text/plain": [
       "21.788359788359788"
      ]
     },
     "execution_count": 1,
     "metadata": {},
     "output_type": "execute_result"
    }
   ],
   "source": [
    "# all parameters in mm's and gramms\n",
    "\n",
    "# STICK_LENGTH = 370.\n",
    "# STICK_HEIGHT = 59.\n",
    "# STICK_MASS = 196.\n",
    "\n",
    "# MOTOR_MASS = 67.\n",
    "# MOTOR_DISTANCE = 158.\n",
    "# MOTOR_HEIGHT = 50.\n",
    "\n",
    "# REGULATOR_MASS = 24.\n",
    "# REGULATOR_DISTANCE = 70.\n",
    "# REGULATOR_HEIGHT = 32.\n",
    "\n",
    "# CENTER_AXIS_IDENT = 17.5\n",
    "# PILLAR_HEIGH = 0\n",
    "from model_parameters import *\n",
    "2 * (MOTOR_MASS * MOTOR_HEIGHT + REGULATOR_MASS * REGULATOR_HEIGHT) \\\n",
    "    / (2 * MOTOR_MASS + 2 * REGULATOR_MASS + STICK_MASS)"
   ]
  },
  {
   "cell_type": "code",
   "execution_count": null,
   "metadata": {},
   "outputs": [],
   "source": [
    "21.8 - new \n",
    "17.5 - old - 13k\n"
   ]
  },
  {
   "cell_type": "code",
   "execution_count": null,
   "metadata": {},
   "outputs": [],
   "source": []
  }
 ],
 "metadata": {
  "interpreter": {
   "hash": "75588b64a1dc3d15161463c4ed13d1d1d6749da5d8e735f8a67d080343857977"
  },
  "kernelspec": {
   "display_name": "Python 3.7.9 64-bit",
   "language": "python",
   "name": "python3"
  },
  "language_info": {
   "codemirror_mode": {
    "name": "ipython",
    "version": 3
   },
   "file_extension": ".py",
   "mimetype": "text/x-python",
   "name": "python",
   "nbconvert_exporter": "python",
   "pygments_lexer": "ipython3",
   "version": "3.7.9"
  },
  "orig_nbformat": 4
 },
 "nbformat": 4,
 "nbformat_minor": 2
}
