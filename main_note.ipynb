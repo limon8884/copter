{
 "cells": [
  {
   "cell_type": "code",
   "execution_count": 1,
   "metadata": {},
   "outputs": [],
   "source": [
    "%load_ext autoreload\n",
    "%autoreload 2"
   ]
  },
  {
   "cell_type": "code",
   "execution_count": 2,
   "metadata": {},
   "outputs": [],
   "source": [
    "model_params = {\n",
    "    'reaction_speed': 10, # the size of step of signal in binary model\n",
    "    'max_reward': 200, # maximum reward for iteration\n",
    "    'angle_loss_coeff': 1e3, #300000 # coef before punish for dismiss an angle\n",
    "    'over_force_loss_coeff': 0, # coef before punish for inapropriate force (signals out of range [800, 2300])\n",
    "    'upper_force_loss_coeff': 10., #3 # coef before punish for missing total force on y-axis. target_force is a target.\n",
    "    'step_size': 1e-3, # time length of iteration in seconds\n",
    "    # 'target_upper_force': 2.0, # total force on y-axis which wanted to be achieved and stated.\n",
    "    'gamma': 0.99, # discount factor\n",
    "    'std_angle': 0.0,\n",
    "    'std_velocity': 0.0,\n",
    "    'std_acceleration': 0.0,\n",
    "    'std_force': 0.0,\n",
    "}"
   ]
  },
  {
   "cell_type": "code",
   "execution_count": 3,
   "metadata": {},
   "outputs": [],
   "source": [
    "import matplotlib.pyplot as plt\n",
    "import torch\n",
    "import torch.nn as nn\n",
    "import torch.nn.functional as F\n",
    "import numpy as np\n",
    "from utils import to_one_hot, normalize_tensor\n",
    "from typing import Tuple, Type, Dict\n",
    "from Copter.Session import Session\n",
    "from Copter.Network import Network\n",
    "from IPython.display import clear_output\n",
    "from joblib import Parallel, delayed\n",
    "# sessions = Parallel(n_jobs=-1)(delayed(generate_session)(agent, t_max=10000) for i in range(n_sessions))\n",
    "\n",
    "class Trainer(object):\n",
    "    def __init__(self, network=None, target_upper_force=None, n_iters=2000, n_sessions=50, percentile=70, use_parallel=True):\n",
    "        if network is None:\n",
    "            self.network = Network(6, 4)\n",
    "        else:\n",
    "            self.network = network\n",
    "        self.session = Session(network=self.network, target_upper_force=target_upper_force, **model_params)\n",
    "\n",
    "        # self.train_steps = train_steps\n",
    "        self.n_iters = n_iters\n",
    "        self.n_sessions = n_sessions\n",
    "        self.percentile = percentile\n",
    "        self.use_parallel = use_parallel\n",
    "        self.target_upper_force = target_upper_force\n",
    "\n",
    "        self.optimizer = torch.optim.Adam(self.network.parameters(), 1e-3)\n",
    "        self.entropy_coef = 0.01 # for loss functions\n",
    "\n",
    "        self.train_rewards = []\n",
    "        self.train_elite_rewards = []\n",
    "        self.train_losses = []\n",
    "        self.info = []\n",
    "\n",
    "    def generate_elites(self) -> Tuple[torch.Tensor, Tuple[torch.Tensor], Tuple[float]]:\n",
    "        '''\n",
    "        Generates `n_session` sessions then choose just `percentile` best of them by total reward.\n",
    "        Returns \n",
    "        -state_tensor, \n",
    "        -actions_tensors, \n",
    "        -avg_rewards, \n",
    "        -info (for debug)\n",
    "        which correspond to states and actions of concatenation of the best sessions.\n",
    "        '''\n",
    "\n",
    "        def generate_session():\n",
    "            s = Session(self.network, target_upper_force=self.target_upper_force, **model_params)\n",
    "            s.run(n_iters=self.n_iters, reset=True)\n",
    "            total_reward = s.total_reward\n",
    "            state_tensor = s.get_state_tensor()\n",
    "            action_tensor_left, action_tensor_right = s.get_action_tensors() \n",
    "            length = s.iteration\n",
    "            \n",
    "            return state_tensor, action_tensor_left, action_tensor_right, total_reward, length\n",
    "\n",
    "        if self.use_parallel:\n",
    "            sessions = Parallel(n_jobs=-1)(delayed(generate_session)() for i in range(self.n_sessions))\n",
    "            state_tensors, action_tensors_left, action_tensors_right, total_rewards, session_lenghts = zip(*sessions)\n",
    "        else:\n",
    "            total_rewards = []\n",
    "            session_lenghts = []\n",
    "            state_tensors = []\n",
    "            action_tensors_left = []\n",
    "            action_tensors_right = []\n",
    "            session_logs = []\n",
    "            for _ in range(self.n_sessions):\n",
    "                self.session.run(n_iters=self.n_iters, reset=True)\n",
    "                total_rewards.append(self.session.total_reward)\n",
    "                state_tensors.append(self.session.get_state_tensor())\n",
    "                action_tensor_left, action_tensor_right = self.session.get_action_tensors() \n",
    "                action_tensors_left.append(action_tensor_left)\n",
    "                action_tensors_right.append(action_tensor_right)\n",
    "                session_lenghts.append(self.session.iteration)\n",
    "                session_logs.append(self.session.logs.copy())\n",
    "                # print(session_tensors[-1].shape)\n",
    "            self.session.reset()\n",
    "\n",
    "        reward_threshold = np.percentile(total_rewards, self.percentile)        \n",
    "        elite_states = torch.vstack([state_tensors[i] for i in range(self.n_sessions) if reward_threshold <= total_rewards[i]])\n",
    "        elite_actions_left = torch.vstack([action_tensors_left[i] for i in range(self.n_sessions) if reward_threshold <= total_rewards[i]])\n",
    "        elite_actions_right = torch.vstack([action_tensors_right[i] for i in range(self.n_sessions) if reward_threshold <= total_rewards[i]])\n",
    "\n",
    "        avg_session_reward = np.mean(total_rewards)\n",
    "        avg_elite_session_reward = np.mean([reward for reward in total_rewards if reward_threshold <= reward])\n",
    "\n",
    "        info = {\n",
    "            # 'total_rewards': total_rewards,\n",
    "            # 'elite_rewards': [reward for reward in total_rewards if reward_threshold <= reward],\n",
    "            'lenghts': session_lenghts,\n",
    "            'threshold': reward_threshold,\n",
    "            # 'log': session_logs,\n",
    "        }\n",
    "\n",
    "        return elite_states, (elite_actions_left, elite_actions_right), (avg_session_reward, avg_elite_session_reward), info\n",
    "    \n",
    "    def train_model_step(self):\n",
    "        '''\n",
    "        Makes a step of CEM algorithm\n",
    "        '''\n",
    "        states_tensor, actions_tensor, avg_rewards, info = self.generate_elites()\n",
    "        actions_left_tensor, actions_right_tensor = actions_tensor\n",
    "        avg_session_reward, avg_elite_session_reward = avg_rewards\n",
    "\n",
    "        logits = self.network(normalize_tensor(states_tensor))\n",
    "        left_log_logits = F.log_softmax(logits[:, :2], -1)\n",
    "        right_log_logits = F.log_softmax(logits[:, 2:], -1)\n",
    "        log_probs_for_actions = torch.sum(left_log_logits * actions_left_tensor + right_log_logits * actions_right_tensor, dim=1) \n",
    "        \n",
    "        # entropy = (torch.exp(log_probs_for_actions) * log_probs_for_actions).sum()\n",
    "        loss = -log_probs_for_actions.mean() #- entropy * self.entropy_coef\n",
    "\n",
    "        # log_prob = get_log_prob(actions_tensor, preds, self.model.std)\n",
    "        # loss = -(log_prob * cumulative_rewards_tensor).mean()\n",
    "        self.train_losses.append(loss.item())\n",
    "        self.train_rewards.append(avg_session_reward)\n",
    "        self.train_elite_rewards.append(avg_elite_session_reward)\n",
    "        self.info.append(info)\n",
    "\n",
    "        self.optimizer.zero_grad()\n",
    "        loss.backward()\n",
    "        self.optimizer.step()\n",
    "\n",
    "    def train_model(self, train_steps=10, print_=True):\n",
    "        '''\n",
    "        Trains model for several steps.\n",
    "        '''\n",
    "        for step in range(train_steps):\n",
    "            self.train_model_step()\n",
    "            if print_:\n",
    "                clear_output()\n",
    "                print(step)\n",
    "                if step % 5 == 0:\n",
    "                    self.plot_trained_logs()\n",
    "\n",
    "    def plot_trained_logs(self):\n",
    "        # r = np.convolve(self.train_rewards, np.ones(window_size), 'valid') / window_size\n",
    "        # elite_r = np.convolve(self.train_elite_rewards, np.ones(window_size), 'valid') / window_size\n",
    "        plt.xlabel('step')\n",
    "        plt.ylabel('reward')\n",
    "        # plt.title('rolling reward')\n",
    "        plt.plot(self.train_elite_rewards, label='elite rewards')\n",
    "        plt.plot(self.train_rewards, label='all rewards')\n",
    "        plt.plot([logs['threshold'] for logs in self.info], label='threshold')\n",
    "        plt.legend()\n",
    "        plt.show()\n",
    "        plt.plot([np.mean(logs['lenghts']) for logs in self.info], label='lengths')\n",
    "        plt.legend()\n",
    "        plt.show()\n"
   ]
  },
  {
   "cell_type": "code",
   "execution_count": 4,
   "metadata": {},
   "outputs": [
    {
     "name": "stdout",
     "output_type": "stream",
     "text": [
      "1\n"
     ]
    },
    {
     "data": {
      "image/png": "[encoded data removed]",
      "text/plain": [
       "<Figure size 432x288 with 1 Axes>"
      ]
     },
     "metadata": {
      "needs_background": "light"
     },
     "output_type": "display_data"
    },
    {
     "data": {
      "image/png": "[encoded data removed]",
      "text/plain": [
       "<Figure size 432x288 with 1 Axes>"
      ]
     },
     "metadata": {
      "needs_background": "light"
     },
     "output_type": "display_data"
    },
    {
     "name": "stdout",
     "output_type": "stream",
     "text": [
      "final reward:  17412.929405855393\n"
     ]
    }
   ],
   "source": [
    "tr = Trainer(network=None, n_iters=100, n_sessions=50, percentile=70, use_parallel=True)\n",
    "tr.train_model(2)\n",
    "trained_net = tr.network\n",
    "tr.plot_trained_logs()\n",
    "print('final reward: ', tr.train_rewards[-1])"
   ]
  },
  {
   "cell_type": "code",
   "execution_count": 8,
   "metadata": {},
   "outputs": [],
   "source": [
    "# torch.save(tr.network.state_dict(), 'trainedNet_40_10000_50_70_rew730k.pt')\n",
    "loaded_net = Network(6, 4)\n",
    "loaded_net.load_state_dict(torch.load('trainedNet_40_10000_50_70_rew730k.pt'))"
   ]
  },
  {
   "cell_type": "code",
   "execution_count": null,
   "metadata": {},
   "outputs": [],
   "source": [
    "tr.session.run(10000)\n",
    "tr.session.plot_logs()"
   ]
  },
  {
   "cell_type": "markdown",
   "metadata": {},
   "source": [
    "Force dynamic function"
   ]
  },
  {
   "cell_type": "code",
   "execution_count": 6,
   "metadata": {},
   "outputs": [
    {
     "data": {
      "text/plain": [
       "[<matplotlib.lines.Line2D at 0x139245460>]"
      ]
     },
     "execution_count": 6,
     "metadata": {},
     "output_type": "execute_result"
    },
    {
     "data": {
      "image/png": "[encoded data removed]",
      "text/plain": [
       "<Figure size 432x288 with 1 Axes>"
      ]
     },
     "metadata": {
      "needs_background": "light"
     },
     "output_type": "display_data"
    }
   ],
   "source": [
    "from utils import signal_to_force\n",
    "from model_parameters import MIN_SIGNAL, MAX_SIGNAL\n",
    "\n",
    "k = 10\n",
    "n_ticks = 1000\n",
    "coefs = np.random.randint(-5, 5, k)\n",
    "step_interval = 2 / n_ticks\n",
    "def polynom(x):\n",
    "    x_deg = 1\n",
    "    ans = 0\n",
    "    for c in coefs:\n",
    "        ans += c * x_deg\n",
    "        x_deg *= x\n",
    "    return ans\n",
    "\n",
    "arr = [polynom(x) for x in np.arange(-1, 1, step_interval)]\n",
    "min_force, max_force = signal_to_force(MIN_SIGNAL), signal_to_force(MAX_SIGNAL)\n",
    "coef = (max_force - min_force) / (max(arr) - min(arr))\n",
    "min_a = min(arr)\n",
    "forces = [min_force + coef * (a - min_a) for a in arr]\n",
    "plt.plot(forces)\n"
   ]
  },
  {
   "cell_type": "markdown",
   "metadata": {},
   "source": [
    "Finding motor force ~ signal input"
   ]
  },
  {
   "cell_type": "code",
   "execution_count": 153,
   "metadata": {},
   "outputs": [],
   "source": [
    "import pandas as pd\n",
    "import matplotlib.pyplot as plt\n",
    "from sklearn.linear_model import LinearRegression"
   ]
  },
  {
   "cell_type": "code",
   "execution_count": 167,
   "metadata": {},
   "outputs": [],
   "source": [
    "df = pd.read_csv('Motor force detection.csv')"
   ]
  },
  {
   "cell_type": "code",
   "execution_count": 168,
   "metadata": {},
   "outputs": [
    {
     "data": {
      "text/plain": [
       "<matplotlib.collections.PathCollection at 0x171f3ce79c8>"
      ]
     },
     "execution_count": 168,
     "metadata": {},
     "output_type": "execute_result"
    },
    {
     "data": {
      "image/png": "[encoded data removed]",
      "text/plain": [
       "<Figure size 432x288 with 1 Axes>"
      ]
     },
     "metadata": {
      "needs_background": "light"
     },
     "output_type": "display_data"
    }
   ],
   "source": [
    "plt.scatter(x=df.input, y=df.mass)"
   ]
  },
  {
   "cell_type": "code",
   "execution_count": 169,
   "metadata": {},
   "outputs": [
    {
     "data": {
      "text/plain": [
       "LinearRegression()"
      ]
     },
     "execution_count": 169,
     "metadata": {},
     "output_type": "execute_result"
    }
   ],
   "source": [
    "lr = LinearRegression()\n",
    "lr.fit(df.drop('mass', axis=1), df.mass)"
   ]
  },
  {
   "cell_type": "code",
   "execution_count": 170,
   "metadata": {},
   "outputs": [
    {
     "data": {
      "image/png": "[encoded data removed]",
      "text/plain": [
       "<Figure size 432x288 with 1 Axes>"
      ]
     },
     "metadata": {
      "needs_background": "light"
     },
     "output_type": "display_data"
    }
   ],
   "source": [
    "space = np.linspace(1000, 2300)\n",
    "preds = lr.intercept_ + lr.coef_[0] * space\n",
    "plt.plot(space, preds)\n",
    "plt.scatter(x=df.input, y=df.mass)\n",
    "plt.show()"
   ]
  },
  {
   "cell_type": "code",
   "execution_count": 171,
   "metadata": {},
   "outputs": [
    {
     "data": {
      "text/plain": [
       "array([-4.56204418e+00,  4.54791687e-03])"
      ]
     },
     "execution_count": 171,
     "metadata": {},
     "output_type": "execute_result"
    }
   ],
   "source": [
    "np.array([lr.intercept_, lr.coef_[0]]) * 1e-3 * 9.8"
   ]
  },
  {
   "cell_type": "code",
   "execution_count": 172,
   "metadata": {},
   "outputs": [
    {
     "data": {
      "text/plain": [
       "array([601.85353414])"
      ]
     },
     "execution_count": 172,
     "metadata": {},
     "output_type": "execute_result"
    }
   ],
   "source": [
    "lr.predict(np.array([[2300]]))"
   ]
  },
  {
   "cell_type": "code",
   "execution_count": null,
   "metadata": {},
   "outputs": [],
   "source": []
  }
 ],
 "metadata": {
  "kernelspec": {
   "display_name": "Python 3.7.9 64-bit",
   "language": "python",
   "name": "python3"
  },
  "language_info": {
   "codemirror_mode": {
    "name": "ipython",
    "version": 3
   },
   "file_extension": ".py",
   "mimetype": "text/x-python",
   "name": "python",
   "nbconvert_exporter": "python",
   "pygments_lexer": "ipython3",
   "version": "3.7.9"
  },
  "orig_nbformat": 4,
  "vscode": {
   "interpreter": {
    "hash": "a35fb83ac8e6ec7d775c8e4493051254ee64ddb3600bc3fef060a4811657ed17"
   }
  }
 },
 "nbformat": 4,
 "nbformat_minor": 2
}
